{
 "cells": [
  {
   "cell_type": "markdown",
   "metadata": {
    "collapsed": false,
    "pycharm": {
     "name": "#%% md\n"
    }
   },
   "source": [
    "## Clustering, Linear Regression and Gradient Descent\n",
    "\n",
    "\n",
    "**Enter Discussion Partner IDs Below:**\n",
    "You could add more IDs with the same markdown format above.\n",
    "\n",
    "**Programming Section**:\n",
    "- Task 1.1 - 1.3: 30%\n",
    "- Task 1.4: 40%\n",
    "- Task 2: 30%"
   ]
  },
  {
   "cell_type": "code",
   "execution_count": 2,
   "metadata": {
    "pycharm": {
     "name": "#%%\n"
    }
   },
   "outputs": [
    {
     "name": "stdout",
     "output_type": "stream",
     "text": [
      "Requirement already satisfied: numpy in /Users/junxianchen/opt/anaconda3/lib/python3.9/site-packages (1.21.5)\r\n",
      "Requirement already satisfied: matplotlib in /Users/junxianchen/opt/anaconda3/lib/python3.9/site-packages (3.5.1)\r\n",
      "Requirement already satisfied: numpy>=1.17 in /Users/junxianchen/opt/anaconda3/lib/python3.9/site-packages (from matplotlib) (1.21.5)\r\n",
      "Requirement already satisfied: fonttools>=4.22.0 in /Users/junxianchen/opt/anaconda3/lib/python3.9/site-packages (from matplotlib) (4.25.0)\r\n",
      "Requirement already satisfied: python-dateutil>=2.7 in /Users/junxianchen/opt/anaconda3/lib/python3.9/site-packages (from matplotlib) (2.8.2)\r\n",
      "Requirement already satisfied: cycler>=0.10 in /Users/junxianchen/opt/anaconda3/lib/python3.9/site-packages (from matplotlib) (0.11.0)\r\n",
      "Requirement already satisfied: packaging>=20.0 in /Users/junxianchen/opt/anaconda3/lib/python3.9/site-packages (from matplotlib) (21.3)\r\n",
      "Requirement already satisfied: pyparsing>=2.2.1 in /Users/junxianchen/opt/anaconda3/lib/python3.9/site-packages (from matplotlib) (3.0.4)\r\n",
      "Requirement already satisfied: kiwisolver>=1.0.1 in /Users/junxianchen/opt/anaconda3/lib/python3.9/site-packages (from matplotlib) (1.4.2)\r\n",
      "Requirement already satisfied: pillow>=6.2.0 in /Users/junxianchen/opt/anaconda3/lib/python3.9/site-packages (from matplotlib) (9.0.1)\r\n",
      "Requirement already satisfied: six>=1.5 in /Users/junxianchen/opt/anaconda3/lib/python3.9/site-packages (from python-dateutil>=2.7->matplotlib) (1.16.0)\r\n",
      "Requirement already satisfied: patchify in /Users/junxianchen/opt/anaconda3/lib/python3.9/site-packages (0.2.3)\r\n",
      "Requirement already satisfied: numpy<2,>=1 in /Users/junxianchen/opt/anaconda3/lib/python3.9/site-packages (from patchify) (1.21.5)\r\n"
     ]
    }
   ],
   "source": [
    "import time\n",
    "import sys\n",
    "! pip install numpy\n",
    "import numpy as np\n",
    "! pip install matplotlib\n",
    "import matplotlib.pyplot as plt\n",
    "import math\n",
    "import os\n",
    "from matplotlib.pyplot import imread\n",
    "! pip install patchify\n",
    "from patchify import patchify\n",
    "\n",
    "np.random.seed(1)\n"
   ]
  },
  {
   "cell_type": "markdown",
   "metadata": {
    "pycharm": {
     "name": "#%% md\n"
    }
   },
   "source": [
    "## Task1: Clustering and Bag of Visual Words\n",
    "-----------\n",
    "These programming exercises will focus on K-means clustering. \n",
    "\n",
    "If you're unsure of how k-means works, read this very helpful and freely available online breakdown from Stanford's CS221 course; https://stanford.edu/~cpiech/cs221/handouts/kmeans.html\n",
    "\n",
    "This assignment requires you to loosely interpret how k-means is a specific case of a more general algorithm named Expectation Maximisation. This is explained toward the end of the above article.\n",
    "\n",
    "First, lets loading the dataset."
   ]
  },
  {
   "cell_type": "code",
   "execution_count": 3,
   "metadata": {
    "pycharm": {
     "name": "#%%\n"
    }
   },
   "outputs": [
    {
     "data": {
      "image/png": "[encoded data removed]",
      "text/plain": [
       "<Figure size 432x288 with 1 Axes>"
      ]
     },
     "metadata": {
      "needs_background": "light"
     },
     "output_type": "display_data"
    }
   ],
   "source": [
    "X = np.load(\"./data_clustering.npy\")\n",
    "plt.scatter(X[:,0], X[:,1])\n",
    "plt.show()"
   ]
  },
  {
   "cell_type": "markdown",
   "metadata": {
    "pycharm": {
     "name": "#%% md\n"
    }
   },
   "source": [
    "K-means is a special, simple case of the Expectation Maximisation (EM) algorithm.\n",
    "\n",
    "This simplified EM (k-means), is divided into two steps.\n",
    "\n",
    "The **E-Step**, where for every sample in your dataset you find which \"centroid\" that datapoint is closest to that sample, and record that information.\n",
    "\n",
    "The **M-Step**, where you move each \"centroid\" to the center of the samples which were found to be closest to it in the **E-Step**.\n",
    "\n",
    "Each *centroid* is simply an estimated mean of a cluster. If you have $1$ centroid, then this centroid will become the mean of all your data.\n",
    "\n",
    "Centroids are initially random values, and the k-means algorithm attempts to modify them so that each one represents the center of a cluster.\n",
    "\n",
    "We have implemented a centroids initialization function."
   ]
  },
  {
   "cell_type": "code",
   "execution_count": 4,
   "metadata": {
    "pycharm": {
     "name": "#%%\n"
    }
   },
   "outputs": [
    {
     "name": "stdout",
     "output_type": "stream",
     "text": [
      "[[ 0.55638768  1.19083041]\n",
      " [ 0.99468733 -0.63105385]\n",
      " [-0.80861347 -0.47487527]\n",
      " [ 0.83443335  0.7038998 ]]\n"
     ]
    }
   ],
   "source": [
    "def initialise_parameters(m, X):\n",
    "    # print(X)\n",
    "    C = X[np.random.choice(X.shape[0], m)]\n",
    "    return C\n",
    "\n",
    "C = initialise_parameters(4, X)\n",
    "print(C)"
   ]
  },
  {
   "cell_type": "markdown",
   "metadata": {
    "pycharm": {
     "name": "#%% md\n"
    }
   },
   "source": [
    "Now let's implement K-Means algorithm.\n",
    "\n",
    "---\n",
    "   **TASK 1.1:** Create a function $E\\_step(C, X) = L$, where $L$ is a matrix of the same dimension of the dataset $X$.\n",
    "   \n",
    "   This function is is the **E-Step** (or \"assignment step\") mentioned earlier.\n",
    "\n",
    "---\n",
    "\n",
    "**HINT:** \n",
    "- https://stanford.edu/~cpiech/cs221/handouts/kmeans.html\n",
    "- https://en.wikipedia.org/wiki/K-means_clustering#Standard_algorithm\n",
    "- Each row of $L$ is a centroid taken from $C$."
   ]
  },
  {
   "cell_type": "code",
   "execution_count": 5,
   "metadata": {
    "pycharm": {
     "name": "#%%\n"
    }
   },
   "outputs": [
    {
     "data": {
      "image/png": "[encoded data removed]",
      "text/plain": [
       "<Figure size 432x288 with 1 Axes>"
      ]
     },
     "metadata": {
      "needs_background": "light"
     },
     "output_type": "display_data"
    }
   ],
   "source": [
    "def calculateDis(x,y):\n",
    "    # print(\"x: \",x)\n",
    "    # print(\"y: \",y)\n",
    "    return np.sqrt(np.sum((x-y) ** 2))\n",
    "def E_step(C, X):\n",
    "    # print(\"C: \", C)\n",
    "    mc, nc = np.shape(C)\n",
    "    mx, nx = np.shape(X)\n",
    "    # print(mx)\n",
    "    # print(nx)\n",
    "    L = np.zeros((mx,nx))\n",
    "    # a = C[0]\n",
    "    # b = C[1]\n",
    "    # print(a)\n",
    "    # print(b)\n",
    "    # print(math.dist(a,b))\n",
    "    for i in range(mx):\n",
    "        point = X[i]\n",
    "        minDistance = 0\n",
    "        # print(\"point: \",point)\n",
    "        for j in range(mc):\n",
    "            pointToCompare = C[j]\n",
    "            distance = calculateDis(point,pointToCompare)\n",
    "            if minDistance == 0:\n",
    "                minDistance = distance\n",
    "                L[i,:] = C[j,:]\n",
    "            else:\n",
    "                if distance < minDistance:\n",
    "                    minDistance = distance\n",
    "                    L[i,:] = C[j,:]\n",
    "    #         print(\"pointToCompare: \", pointToCompare)\n",
    "    #         print(\"distance: \", distance)\n",
    "    #     print(\"----------\")\n",
    "    # print(L)\n",
    "\n",
    "    # print(\"X: \",(X))\n",
    "    # YOUR CODE HERE\n",
    "    return L\n",
    "    \n",
    "L = E_step(C, X)\n",
    "plt.scatter(L[:, 0], L[:, 1])\n",
    "plt.show()"
   ]
  },
  {
   "cell_type": "markdown",
   "metadata": {
    "pycharm": {
     "name": "#%% md\n"
    }
   },
   "source": [
    "**TASK 1.2:** Create a function $M\\_step(C, X, L) = C$ which returns $C$ modified so that each centroid in $C$ is placed in the middle of the samples assigned to it. This is the **M-Step**.\n",
    "\n",
    "In other words, make each centroid in $C$ the average of all the samples which were found to be closest to it during the **E-step**. This is also called the \"update step\" for K-means.\n",
    "\n",
    "---\n",
    "\n",
    "**HINT:** https://docs.scipy.org/doc/numpy/reference/generated/numpy.array_equal.html"
   ]
  },
  {
   "cell_type": "code",
   "execution_count": 6,
   "metadata": {
    "pycharm": {
     "name": "#%%\n"
    }
   },
   "outputs": [
    {
     "name": "stdout",
     "output_type": "stream",
     "text": [
      "Before:\n",
      "[[ 0.55638768  1.19083041]\n",
      " [ 0.99468733 -0.63105385]\n",
      " [-0.80861347 -0.47487527]\n",
      " [ 0.83443335  0.7038998 ]]\n",
      "\n",
      "After:\n",
      "[[-0.20034462  0.94104071]\n",
      " [ 0.74611362 -0.7473627 ]\n",
      " [-0.76806134 -0.16622928]\n",
      " [ 0.73849204  0.66904905]]\n"
     ]
    }
   ],
   "source": [
    "def M_step(C, X, L):\n",
    "    # print(C)\n",
    "    # print(L)\n",
    "    mc, nc = np.shape(C)\n",
    "    mx, nx = np.shape(X)\n",
    "    ml, nl = np.shape(L)\n",
    "    new_C = np.zeros((mc,nc))\n",
    "    # YOUR CODE HERE\n",
    "    for i in range(mc):\n",
    "        # print(C[i])\n",
    "        list = []\n",
    "        for j in range(ml):\n",
    "            # print(L[j])\n",
    "            if L[j][0] == C[i][0] and L[j][1] == C[i][1]:\n",
    "                list.append(X[j])\n",
    "        # print(len(list))\n",
    "        # matrix = np.zeros((len(list),nx))\n",
    "        clo = 0\n",
    "        avgclo = 0\n",
    "        for x in range(nc):\n",
    "            sumclo = 0\n",
    "            for y in range(len(list)):\n",
    "                sumclo += list[y][x]\n",
    "            avgclo = sumclo / len(list)\n",
    "            clo = x\n",
    "            new_C[i][x] = avgclo\n",
    "        # sum0 = 0\n",
    "        # sum1= 0\n",
    "        # for x in range(len(list)):\n",
    "        #     sum0 += list[x][0]\n",
    "        #     sum1 += list[x][1]\n",
    "        #     # matrix[x] = list[x]\n",
    "        # avg0 = sum0 / len(list)\n",
    "        # avg1 = sum1 / len(list)\n",
    "        # print(\"sum0: \", sum0)\n",
    "        # print(sum0 / len(list))\n",
    "        # print(matrix)\n",
    "        # new_C[i] = (avg0,avg1)\n",
    "\n",
    "        # print(\"-----------------\")\n",
    "    return new_C\n",
    "\n",
    "\n",
    "new_C = M_step(C, X, L)\n",
    "print('Before:')\n",
    "print(C)\n",
    "print('\\nAfter:')\n",
    "print(new_C)"
   ]
  },
  {
   "cell_type": "markdown",
   "metadata": {
    "pycharm": {
     "name": "#%% md\n"
    }
   },
   "source": [
    "**TASK 1.3:** Implement $kmeans(X, m, threshold) = C, L$ which takes a dataset $X$ (of any dimension) and a scalar value $m$ and a scalar $threshold$ as input. This function uses the 3 functions you wrote previously to:\n",
    "- generate $m$ centroids.\n",
    "- iterate between the E and M steps until the difference of loss values between two iterations is less than the threshold to classify the $m$ clusters.\n",
    "\n",
    "...and then returns:\n",
    "- $C$, the centers of the $m$ clusters after convergence.\n",
    "- $L$, the labels (centroid vectors) assigned to each sample in the dataset after convergence.\n",
    "---\n",
    "**HINT:** Using initialise_parameters to initial centroid"
   ]
  },
  {
   "cell_type": "code",
   "execution_count": 33,
   "metadata": {
    "pycharm": {
     "name": "#%%\n"
    }
   },
   "outputs": [
    {
     "name": "stdout",
     "output_type": "stream",
     "text": [
      "Initial Parameters:\n",
      "[[ 0.55638768  1.19083041]\n",
      " [ 0.99468733 -0.63105385]\n",
      " [-0.80861347 -0.47487527]\n",
      " [ 0.83443335  0.7038998 ]]\n",
      "\n",
      "Final Parameters:\n",
      "[[-0.74965351  0.7531092 ]\n",
      " [ 0.72539561  0.75302836]\n",
      " [-0.73312486 -0.73655558]\n",
      " [ 0.74859936 -0.74619961]]\n"
     ]
    },
    {
     "data": {
      "image/png": "[encoded data removed]",
      "text/plain": [
       "<Figure size 432x288 with 1 Axes>"
      ]
     },
     "metadata": {
      "needs_background": "light"
     },
     "output_type": "display_data"
    }
   ],
   "source": [
    "def difbewCC(oldC,newC):\n",
    "    mOld,nOld = np.shape(oldC)\n",
    "    # mNew,nNew = np.shape(newC)\n",
    "    max = 0\n",
    "    for i in range(mOld):\n",
    "        pointOld = oldC[i,:]\n",
    "        pointNew = newC[i,:]\n",
    "        if calculateDis(pointOld,pointNew) > max:\n",
    "            max = calculateDis(pointOld,pointNew)\n",
    "    return max\n",
    "\n",
    "def kmeans(X, m, threshold):\n",
    "    # YOUR CODE HERE\n",
    "    # print(m)\n",
    "    # print(threshold)\n",
    "    C = initialise_parameters(m,X)\n",
    "    L = E_step(C,X)\n",
    "    diff =  float(\"inf\")\n",
    "    while diff > threshold:\n",
    "        new_C = M_step(C, X, L)\n",
    "        new_L = E_step(new_C,X)\n",
    "        diff = difbewCC(C,new_C)\n",
    "        # print(\"diff: \", diff)\n",
    "        C = new_C\n",
    "        L = new_L\n",
    "    return C, L\n",
    "\n",
    "\n",
    "#CODE TO DISPLAY YOUR RESULTS. DO NOT MODIFY.\n",
    "C_final, L_final = kmeans(X, 4, 1e-6)\n",
    "print('Initial Parameters:')\n",
    "print(C)\n",
    "print('\\nFinal Parameters:')\n",
    "print(C_final)\n",
    "# print(L_final)\n",
    "\n",
    "def allocator(X, L, c):\n",
    "    cluster = []\n",
    "    for i in range(L.shape[0]):\n",
    "        if np.array_equal(L[i, :], c):\n",
    "            cluster.append(X[i, :])\n",
    "            # print(cluster)\n",
    "    return np.asarray(cluster)\n",
    "\n",
    "colours = ['r', 'g', 'b', 'y']\n",
    "for i in range(4):\n",
    "    cluster = allocator(X, L_final, C_final[i, :])\n",
    "    # print(cluster)\n",
    "    plt.scatter(cluster[:,0], cluster[:,1], c=colours[i])\n",
    "plt.show()"
   ]
  },
  {
   "cell_type": "markdown",
   "metadata": {
    "pycharm": {
     "name": "#%% md\n"
    }
   },
   "source": [
    "Your answer should like this, maybe with different colors:\n",
    "![image](./cluster.png)"
   ]
  },
  {
   "cell_type": "markdown",
   "metadata": {
    "pycharm": {
     "name": "#%% md\n"
    }
   },
   "source": [
    "**TASK 1.4:** Implement Bag of Visual Words (BOVW) to perform pedestrian retrieval. See more information at:\n",
    "\n",
    "https://en.wikipedia.org/wiki/Bag-of-words_model\n",
    "\n",
    "https://en.wikipedia.org/wiki/Bag-of-words_model_in_computer_vision\n",
    "\n",
    "First, let's understand the settings of datasets.\n",
    "\n",
    "---\n",
    "We provide you with 3 pedestrian image folders, 'train', 'gallery', and 'val_query'. There are 99 images in 'train' which are used to create a vocabulary through clustering. 'Gallery' contains 90 images which belong to 15 different pedestrians. If two images' file name have same first four digits, then these two images belong to same pedestrian. When we randomly select a query image from 'val_query', we aim to find the images from the 'gallery' that contain the same person as the query. Let's load the images in 'train' and visualise an example."
   ]
  },
  {
   "cell_type": "code",
   "execution_count": null,
   "metadata": {
    "pycharm": {
     "name": "#%%\n"
    }
   },
   "outputs": [],
   "source": [
    "train_images = []\n",
    "for file in os.listdir(\"./train\"):\n",
    "    if file.endswith(\".jpg\"):\n",
    "        im = imread(\"./train/\" + file)\n",
    "        train_images.append(im)\n",
    "        assert im.shape == (128, 64, 3)\n",
    "plt.imshow(train_images[0])\n",
    "plt.show()"
   ]
  },
  {
   "cell_type": "markdown",
   "metadata": {
    "pycharm": {
     "name": "#%% md\n"
    }
   },
   "source": [
    "To generate the vocabulary, the first step is computing local image features. For simplicity, patches of size 8×8 are densely sampled, and we use these patches for local feature extraction. The sampling step is 8, so there is no overlapping between patches. "
   ]
  },
  {
   "cell_type": "code",
   "execution_count": null,
   "metadata": {
    "pycharm": {
     "name": "#%%\n"
    }
   },
   "outputs": [],
   "source": [
    "def patchify_images(image):\n",
    "    return patchify(image, (8, 8, 3), step=8).reshape((-1, 8, 8, 3))\n",
    "\n",
    "patches = patchify_images(train_images[0])\n",
    "print(f'Before splitting, the image size is {train_images[0].shape}')\n",
    "print(f'After splitting, the patches are {patches.shape}')\n",
    "print('A patch is like:')\n",
    "plt.imshow(patches[50])\n",
    "plt.show()"
   ]
  },
  {
   "cell_type": "markdown",
   "metadata": {
    "pycharm": {
     "name": "#%% md\n"
    }
   },
   "source": [
    "Then you need to implement your feature extractor to compute the feature of an image patch. Complete the function\n",
    "\n",
    "$$compute\\_patch\\_feature(patch) = patch\\_feature$$\n",
    "\n",
    "**Requirements:** \n",
    "- You are not allowed to import any other packages except Numpy and Scipy. (Your are allowed to import packages in Numpy or Scipy, such as scipy.signal). \n",
    "- You can find inspiration from internet. However, you have to code by yourself. Hint: color feature might be a useful option.\n",
    "- Your implementation for feature extraction of a patch should be of reasonable speed, e.g., within a second. You will have 0 if your algorithm takes too much time to run."
   ]
  },
  {
   "cell_type": "code",
   "execution_count": null,
   "metadata": {
    "pycharm": {
     "name": "#%%\n"
    }
   },
   "outputs": [],
   "source": [
    "\n",
    "import scipy as scipy\n",
    "def displaycolor(rgb):\n",
    "    data = np.zeros((400,400,3),dtype=np.uint8)\n",
    "    data[:] = rgb\n",
    "    plt.imshow(data)\n",
    "    plt.show()\n",
    "def compute_patch_feature(patch):\n",
    "    # # print(patch)\n",
    "    # # plt.imshow(patch)\n",
    "    # # plt.show()\n",
    "    # sumkp = []\n",
    "    # for i in range(127):\n",
    "    #     # gray = cv2.cvtColor(patches[i], cv2.COLOR_RGB2GRAY)\n",
    "    #     gray = patches[i]\n",
    "    #\n",
    "    #     sift = cv2.SIFT_create()\n",
    "    #     kp, des = sift.detectAndCompute(gray,None)\n",
    "    #     kp_image = cv2.drawKeypoints(gray,kp,None,cv2.DrawMatchesFlags_DRAW_RICH_KEYPOINTS)\n",
    "    #     sumkp.append(kp)\n",
    "    #     # print(len(kp))\n",
    "    #     # plt.imshow(kp_image)\n",
    "    #     # plt.show()\n",
    "    # # scipy.signal.\n",
    "    # # print(\"sum:\", sum)\n",
    "    # gray = train_images[0]\n",
    "    #\n",
    "    # sift = cv2.SIFT_create()\n",
    "    # kp, des = sift.detectAndCompute(gray,None)\n",
    "    # kp_image = cv2.drawKeypoints(gray,kp,None,cv2.DrawMatchesFlags_DRAW_RICH_KEYPOINTS)\n",
    "    # # kp_image2 = cv2.drawKeypoints(gray,sumkp,None,cv2.DrawMatchesFlags_DRAW_RICH_KEYPOINTS)\n",
    "    #\n",
    "    # print(len(kp))\n",
    "    # plt.imshow(kp_image)\n",
    "    # # plt.imshow(kp_image2)\n",
    "    #\n",
    "    # plt.show()\n",
    "\n",
    "\n",
    "\n",
    "    #YOUR CODE HERE\n",
    "    # print(patches.shape[0])\n",
    "    mean = np.mean(patch, axis=(0, 1))\n",
    "    # print(mean)\n",
    "\n",
    "    return mean\n",
    "\n",
    "\n",
    "# diff = calculateDis(compute_patch_feature(patches[1]),compute_patch_feature(patches[2]))\n",
    "# print(diff)\n",
    "start = time.time()\n",
    "print(f'The shape of the feature of a patch is :{compute_patch_feature(patches[1]).shape} in my implementation.')\n",
    "end = time.time()\n",
    "print(f'It takes {end-start} seconds to compute the feature for one image patch.')"
   ]
  },
  {
   "cell_type": "markdown",
   "metadata": {
    "pycharm": {
     "name": "#%% md\n"
    }
   },
   "source": [
    "Now, you can create the vocabulary from patch features in the 'train' folder. Complete the function\n",
    "\n",
    "$$create\\_vocabulary(train\\_images) = vocabulary$$\n",
    "\n",
    "**HINT:** \n",
    "- Remember to call the functions you defined in Task 1.1, 1.2 and 1.3.\n",
    "- You are free to decide the size of vocabulary as long as it can be generated within 2 minutes.\n",
    "- It is NOT allowed to use 'gallary' or 'val_query' images for vocabulary training. You will have 0 for Task 1.4 if you use them.\n",
    "- It is NOT allowed to use external images (e.g., those from the web), either. "
   ]
  },
  {
   "cell_type": "code",
   "execution_count": null,
   "metadata": {
    "pycharm": {
     "name": "#%%\n"
    }
   },
   "outputs": [],
   "source": [
    "def create_vocabulary(train_images):\n",
    "    voca = np.zeros((len(train_images) * 128, 3))\n",
    "    # print(voca)\n",
    "    pointer = 0\n",
    "    for image in range(len(train_images)):\n",
    "        patches = patchify_images(train_images[image])\n",
    "        for patch in range(patches.shape[0]):\n",
    "            # print(image*patch)\n",
    "            voca[pointer, :] = compute_patch_feature(patches[patch,:])\n",
    "            pointer += 1\n",
    "    #YOUR CODE HERE\n",
    "    # print(pointer)\n",
    "    # print(voca)\n",
    "    return voca\n",
    "\n",
    "\n",
    "start = time.time()\n",
    "vocabulary = create_vocabulary(train_images)\n",
    "end = time.time()\n",
    "print(f'The shape of my vocabulary is {vocabulary.shape}.')\n",
    "print(f'It takes {end-start} seconds to generate the vocabulary.' )"
   ]
  },
  {
   "cell_type": "markdown",
   "metadata": {
    "pycharm": {
     "name": "#%% md\n"
    }
   },
   "source": [
    "You have built the vocabulary successfully. You must know how to compute the feature representation of an image. Now, let's do a simple pedestrian retrieval task where we are going to pick a query image from 'val_query' and try to search for images in 'gallery' which contain the same person. "
   ]
  },
  {
   "cell_type": "code",
   "execution_count": null,
   "metadata": {
    "pycharm": {
     "name": "#%%\n"
    }
   },
   "outputs": [],
   "source": [
    "gallery_images = []\n",
    "gallery_filenames = []\n",
    "for file in os.listdir(\"./gallery\"):\n",
    "    if file.endswith(\".jpg\"):\n",
    "        im = imread(\"./gallery/\" + file)\n",
    "        gallery_images.append(im)\n",
    "        gallery_filenames.append(file)\n",
    "\n",
    "query_image = imread(\"./val_query/0001_c5_0022.jpg\")\n",
    "# show a query image\n",
    "plt.imshow(query_image)\n",
    "plt.show()"
   ]
  },
  {
   "cell_type": "markdown",
   "metadata": {
    "pycharm": {
     "name": "#%% md\n"
    }
   },
   "source": [
    "Complete the function\n",
    "   \n",
    "$$image\\_similarity\\_ranking(gallery\\_images, query\\_image, vocabulary, gallery\\_filenames) = list\\_of\\_name\\_of\\_the\\_gallery\\_images$$\n",
    "\n",
    "gallery_images is the collection of all 90 images with dimension $90 \\times 128 \\times 64 \\times 3$.\n",
    "\n",
    "query_image is one image with dimension $128 \\times 64 \\times 3$.\n",
    "\n",
    "The return value should be a list of image file names. Each name indicates a gallery image, ranked according to their similarities with the query. That is, the first file name corresponds to the image with the highest similarity to the query. The second file name in the list is image with second highest similarity to the query, etc. A file name should be '0001_c5_0022.jpg'. The length of the result should be 90, same as the number of gallery images. **For Task 1.4, you will be marked based on the retrieval accuracy**.  \n",
    "\n",
    "\n",
    "**Requirements:** \n",
    "- You can't use the filename to do the task trivially. In other words, you must use a machine learning solution.\n",
    "- You are free to improve the distance metric (an $\\ell_2$ distance is a basic option).\n",
    "- You need to extract the feature of an image by the BOVW method. Other options (e.g., deep learning) are not allowed.\n",
    "- Your implementation (e.g., BOVW feature extraction for an image, nearest neighbor search) should be of reasonable speed, e.g., within 20 seconds. You will receive 0 if your algorithm takes too much time to run (e.g., more than 2 minutes).\n",
    "\n",
    "Marking criteria: Our evaluation process will calculate a matching score, a weighted sum of your top-1, 2, 3, 4, 5 accuracy using some test queries (not provided to students). These test queries will be used to probe your gallery data (90 images). Top-k accuracy measures the percentage of queries for which you could find the true match within the top-k position of the rank list. Your mark will be given based on your accuracy. For example, if your accuracy is within top 10% in the class, you will receive 40 marks; If your accuracy is 50% in the class, you will get 20 marks. If your program contains errors/bugs, you will receive 0. "
   ]
  },
  {
   "cell_type": "code",
   "execution_count": 34,
   "metadata": {
    "pycharm": {
     "name": "#%%\n"
    }
   },
   "outputs": [
    {
     "name": "stdout",
     "output_type": "stream",
     "text": [
      "[[121.51481431 112.45774167 109.8728666 ]\n",
      " [121.51481431 112.45774167 109.8728666 ]\n",
      " [121.51481431 112.45774167 109.8728666 ]\n",
      " ...\n",
      " [137.43987474 130.99215933 128.6395946 ]\n",
      " [137.43987474 130.99215933 128.6395946 ]\n",
      " [154.20207549 149.05825673 147.85754741]]\n",
      "It takes 40.571511030197144 seconds to get the matching results of a query\n",
      "Your query image is:\n"
     ]
    },
    {
     "data": {
      "image/png": "[encoded data removed]",
      "text/plain": [
       "<Figure size 432x288 with 1 Axes>"
      ]
     },
     "metadata": {
      "needs_background": "light"
     },
     "output_type": "display_data"
    },
    {
     "name": "stdout",
     "output_type": "stream",
     "text": [
      "The best matching is:\n"
     ]
    },
    {
     "ename": "TypeError",
     "evalue": "'NoneType' object is not subscriptable",
     "output_type": "error",
     "traceback": [
      "\u001b[0;31m---------------------------------------------------------------------------\u001b[0m",
      "\u001b[0;31mTypeError\u001b[0m                                 Traceback (most recent call last)",
      "Input \u001b[0;32mIn [34]\u001b[0m, in \u001b[0;36m<cell line: 65>\u001b[0;34m()\u001b[0m\n\u001b[1;32m     63\u001b[0m plt\u001b[38;5;241m.\u001b[39mshow()\n\u001b[1;32m     64\u001b[0m \u001b[38;5;28mprint\u001b[39m(\u001b[38;5;124m'\u001b[39m\u001b[38;5;124mThe best matching is:\u001b[39m\u001b[38;5;124m'\u001b[39m)\n\u001b[0;32m---> 65\u001b[0m plt\u001b[38;5;241m.\u001b[39mimshow(gallery_images[gallery_filenames\u001b[38;5;241m.\u001b[39mindex(\u001b[43mname_list\u001b[49m\u001b[43m[\u001b[49m\u001b[38;5;241;43m0\u001b[39;49m\u001b[43m]\u001b[49m)])\n\u001b[1;32m     66\u001b[0m plt\u001b[38;5;241m.\u001b[39mshow()\n",
      "\u001b[0;31mTypeError\u001b[0m: 'NoneType' object is not subscriptable"
     ]
    }
   ],
   "source": [
    "def calculateColorDiff(rgb1,rgb2):\n",
    "    # idea from https://www.compuphase.com/cmetric.htm\n",
    "    # print(rgb1)\n",
    "    R1,G1,B1 = rgb1\n",
    "    R2,G2,B2 = rgb2\n",
    "    # print(R1,G1,B1)\n",
    "    cR=R1-R2\n",
    "    cG=G1-G2\n",
    "    cB=B1-B2\n",
    "    uR=(R1+R2)/2\n",
    "    distance=math.sqrt(cR*cR*(2 + cR/256) + cG*cG*4 + cB*cB*(2+(255-uR)/256))\n",
    "    return distance\n",
    "\n",
    "def difbewCCimage(oldC,newC):\n",
    "    mOld,nOld = np.shape(oldC)\n",
    "    # mNew,nNew = np.shape(newC)\n",
    "    # print(newC)\n",
    "    max = 0\n",
    "    for i in range(mOld):\n",
    "        pointOld = oldC[i,:]\n",
    "        pointNew = newC[i,:]\n",
    "        diff = calculateColorDiff(pointOld,pointNew)\n",
    "        if diff > max:\n",
    "            max = diff\n",
    "    return max\n",
    "\n",
    "def kmeansimage(X, m, threshold):\n",
    "    # YOUR CODE HERE\n",
    "    # print(m)\n",
    "    # print(threshold)\n",
    "    C = initialise_parameters(m,X)\n",
    "    L = E_step(C,X)\n",
    "    diff =  float(\"inf\")\n",
    "    while diff > threshold:\n",
    "        new_C = M_step(C, X, L)\n",
    "        new_L = E_step(new_C,X)\n",
    "        diff = difbewCCimage(C,new_C)\n",
    "        # print(\"diff: \", diff)\n",
    "        C = new_C\n",
    "        L = new_L\n",
    "    return C, L\n",
    "\n",
    "def image_similarity_ranking(gallery_images, query_image, vocabulary, gallery_filenames):\n",
    "    #YOUR CODE HERE\n",
    "    C_finall, L_final = kmeansimage(vocabulary, 12, 1e-8)\n",
    "    # print('\\nFinal Parameters:')\n",
    "    # print(C_finall)\n",
    "    print(L_final)\n",
    "    # for each in C_finall:\n",
    "    #     displaycolor(each)\n",
    "    meanQuery = np.mean(query_image, axis=(0, 1))\n",
    "    # displaycolor(meanQuery)\n",
    "\n",
    "    pass\n",
    "\n",
    "\n",
    "# visualise your query image and its best match in gallery. Ideally, they should be the same person.\n",
    "start = time.time()\n",
    "name_list = image_similarity_ranking(gallery_images, imread(\"./val_query/0001_c5_0022.jpg\"), vocabulary,gallery_filenames)\n",
    "end = time.time()\n",
    "print(f'It takes {end-start} seconds to get the matching results of a query')\n",
    "print('Your query image is:')\n",
    "plt.imshow(imread(\"./val_query/0001_c5_0022.jpg\"))\n",
    "plt.show()\n",
    "print('The best matching is:')\n",
    "plt.imshow(gallery_images[gallery_filenames.index(name_list[0])])\n",
    "plt.show()\n",
    "# We have 3 query images, you can try other two queries to see whether your algorithm performs well."
   ]
  },
  {
   "cell_type": "markdown",
   "metadata": {
    "pycharm": {
     "name": "#%% md\n"
    }
   },
   "source": [
    "Please use the following code to calculate the matching score of 'val_query' dataset. Make sure the score is reasonble to you. We will be evaluating your implementation using some test queries that are not provided to you."
   ]
  },
  {
   "cell_type": "code",
   "execution_count": null,
   "metadata": {
    "collapsed": false,
    "pycharm": {
     "name": "#%%\n"
    }
   },
   "outputs": [],
   "source": []
  },
  {
   "cell_type": "code",
   "execution_count": null,
   "metadata": {
    "pycharm": {
     "name": "#%%\n"
    }
   },
   "outputs": [],
   "source": [
    "def match_score(name, name_list):\n",
    "    def reid(idx):\n",
    "        return name_list[idx][:4]\n",
    "\n",
    "    base = 0.0\n",
    "    code = name[:4]\n",
    "    if reid(0) == code or reid(1) == code or reid(2) == code:\n",
    "        base += 0.4\n",
    "        if (reid(0) == code):\n",
    "            base += 0.3\n",
    "        elif (reid(1) == code):\n",
    "            base += 0.2\n",
    "        elif (reid(2) == code):\n",
    "            base += 0.1\n",
    "        if (reid(0) == code and reid(1) == code) or (reid(0) == code and reid(2) == code) or (\n",
    "                reid(1) == code and reid(2) == code):\n",
    "            base += 0.2\n",
    "            if (reid(0) == code and reid(1) == code and reid(2) == code):\n",
    "                base += 0.1\n",
    "    else:\n",
    "        if (reid(3) == code):\n",
    "            base += 0.4\n",
    "        elif (reid(4) == code):\n",
    "            base += 0.2\n",
    "    return base\n",
    "\n",
    "def total_score():\n",
    "    score = 0\n",
    "    for file in os.listdir(\"./val_query\"):\n",
    "        name_list = image_similarity_ranking(gallery_images, imread(\"./val_query/\" + file), vocabulary, gallery_filenames)\n",
    "        score += match_score(file, name_list)\n",
    "    return score\n",
    "\n",
    "print(total_score())"
   ]
  },
  {
   "cell_type": "markdown",
   "metadata": {
    "pycharm": {
     "name": "#%% md\n"
    }
   },
   "source": [
    "## Task 2: Linear Regression and Gradient Descent\n",
    "---\n",
    "\n",
    "For exercise 2, we're going to implement multiple target **batch** linear regression with mean squared loss,\n",
    "\n",
    "$$\\mathcal{L} = \\frac{1}{2 m} \\sum_{i = 0}^{m} \\mid \\mid x_i\\theta - y_i \\mid \\mid^2$$.\n",
    "\n",
    "For the following questions:\n",
    "- $x \\in \\mathbb{R}^{m}$ is the vector directly representing input features from the provided dataset. Every element of it is a single training example.\n",
    "- $X \\in \\mathbb{R}^{m \\times n}$ is the constructed feature matrix (e.g. polynomial features) used for learning. Each row of $X$ is a single training example.\n",
    "- $\\theta$ is our parameters. \n",
    "- $y \\in \\mathbb{R}^{m}$ is a matrix of the target values we're trying to estimate for each row of $X$. Each row $i$ of $X$ corresponds to row $i$ of $Y$.\n",
    "- $m$ is the number of training examples.\n",
    "- $n$ is the dimensionality of one training example.\n",
    "\n",
    "Typically when people think of linear regression, they think of a mapping from $\\mathbb{R}^n \\rightarrow \\mathbb{R}$, where they're trying to predict a single scalar value.\n",
    "\n",
    "---\n",
    "First, we load the data."
   ]
  },
  {
   "cell_type": "code",
   "execution_count": 35,
   "metadata": {
    "pycharm": {
     "name": "#%%\n"
    }
   },
   "outputs": [
    {
     "name": "stdout",
     "output_type": "stream",
     "text": [
      "Requirement already satisfied: scikit-learn in /Users/junxianchen/opt/anaconda3/lib/python3.9/site-packages (1.1.2)\r\n",
      "Requirement already satisfied: joblib>=1.0.0 in /Users/junxianchen/opt/anaconda3/lib/python3.9/site-packages (from scikit-learn) (1.1.0)\r\n",
      "Requirement already satisfied: threadpoolctl>=2.0.0 in /Users/junxianchen/opt/anaconda3/lib/python3.9/site-packages (from scikit-learn) (2.2.0)\r\n",
      "Requirement already satisfied: numpy>=1.17.3 in /Users/junxianchen/opt/anaconda3/lib/python3.9/site-packages (from scikit-learn) (1.21.5)\r\n",
      "Requirement already satisfied: scipy>=1.3.2 in /Users/junxianchen/opt/anaconda3/lib/python3.9/site-packages (from scikit-learn) (1.7.3)\r\n"
     ]
    },
    {
     "data": {
      "image/png": "[encoded data removed]",
      "text/plain": [
       "<Figure size 432x288 with 1 Axes>"
      ]
     },
     "metadata": {
      "needs_background": "light"
     },
     "output_type": "display_data"
    }
   ],
   "source": [
    "!pip install -U scikit-learn\n",
    "x_train, _, y_train, _ = np.load(\"./data_regression.npy\")\n",
    "plt.plot(x_train,y_train,'o')\n",
    "plt.xlabel('x')\n",
    "plt.ylabel('y')\n",
    "plt.title(\"Training data\")\n",
    "plt.ylim([-1,3])\n",
    "plt.show()"
   ]
  },
  {
   "cell_type": "markdown",
   "metadata": {
    "pycharm": {
     "name": "#%% md\n"
    }
   },
   "source": [
    "It is obvious that it is not a good idea to perform linear regression directly on the input feature `x`. We need to add polynomial features. Lets construct an appropriate feature vector.\n",
    "\n",
    "---\n",
    "**Task 2.1**:  Complete the `get_polynomial_features` function with the following specifications.\n",
    "* Input1: an array `x` of shape $(m,1)$.\n",
    "* Input2: `degree` of the polynomial (integer greater than or equal to one).\n",
    "* Output: matrix of shape $(m,degree+1)$ consisting of horizontally concatenated polynomial terms.\n",
    "* Output: the first column of output matrix should be all ones.\n",
    "---"
   ]
  },
  {
   "cell_type": "code",
   "execution_count": 36,
   "metadata": {
    "pycharm": {
     "name": "#%%\n"
    }
   },
   "outputs": [],
   "source": [
    "\n",
    "# from sklearn.preprocessing import PolynomialFeatures\n",
    "def get_polynomial_features(x,degree=5):\n",
    "    # YOUR CODE HERE\n",
    "    # print(x.reshape(-1, 1))\n",
    "    X = x.reshape(-1, 1)\n",
    "\n",
    "    # polyTerms = PolynomialFeatures(degree)\n",
    "    # print(polyTerms.fit_transform(x.reshape(-1, 1)))\n",
    "    out = np.zeros((X.shape[0], degree + 1))\n",
    "    for row in range(X.shape[0]):\n",
    "        for col in range(degree + 1):\n",
    "            # print(x[row])\n",
    "            # print(col)\n",
    "            out[row, col] = pow(x[row],col)\n",
    "\n",
    "\n",
    "    # print(out)\n",
    "    # print(polyTerms.fit_transform(x.reshape(-1, 1)) == out)\n",
    "    return out\n",
    "\n",
    "\n",
    "# get polynomial features\n",
    "X_train = get_polynomial_features(x_train,degree=2)"
   ]
  },
  {
   "cell_type": "markdown",
   "metadata": {
    "pycharm": {
     "name": "#%% md\n"
    }
   },
   "source": [
    "Let us implement gradient descent to find the optimal $\\theta$.\n",
    "\n",
    "\n",
    "---\n",
    "**TASK 2.2:** Write a function $initialise\\_parameters(n) = \\theta$, where $\\theta$ is the parameters we will use for linear regression $X\\theta = Y$ for $X \\in \\mathbb{R}^{m \\times n}, Y \\in \\mathbb{R}^{m}$.\n",
    "\n",
    "The values of $\\theta$ should be randomly generated. You will be judged on whether the matrix $\\theta$ is correctly constructed for this problem.\n",
    "\n",
    "\n",
    "---\n",
    "\n",
    "**HINT:** $\\theta$ should be an array of length $n$."
   ]
  },
  {
   "cell_type": "code",
   "execution_count": 41,
   "metadata": {
    "pycharm": {
     "name": "#%%\n"
    },
    "scrolled": true
   },
   "outputs": [
    {
     "name": "stdout",
     "output_type": "stream",
     "text": [
      "[0.68338423 0.02288597 0.85723427]\n",
      "[0.68338423 0.02288597 0.85723427]\n"
     ]
    }
   ],
   "source": [
    "def initialise_parameters(n):\n",
    "    # print(n)\n",
    "    # YOUR CODE HERE\n",
    "    theta = np.random.randn(n)\n",
    "    # print(theta)\n",
    "    return theta\n",
    "    \n",
    "    \n",
    "# initialize theta\n",
    "theta = initialise_parameters(X_train.shape[1])\n",
    "print(theta)"
   ]
  },
  {
   "cell_type": "markdown",
   "metadata": {
    "pycharm": {
     "name": "#%% md\n"
    }
   },
   "source": [
    "---\n",
    "**TASK 2.3:** Implement a function $ms\\_error(X, \\theta, y) = err$, which gives the **mean** squared error over all $m$ training examples.\n",
    "\n",
    "---"
   ]
  },
  {
   "cell_type": "code",
   "execution_count": 38,
   "metadata": {
    "pycharm": {
     "name": "#%%\n"
    }
   },
   "outputs": [
    {
     "name": "stdout",
     "output_type": "stream",
     "text": [
      "4.084377332843811\n"
     ]
    }
   ],
   "source": [
    "def ms_error(X, theta, y):\n",
    "    # print(X)\n",
    "    # print(theta)\n",
    "    new_y = np.dot(X,theta)\n",
    "    # print(new_y)\n",
    "    # print(y)\n",
    "    loss = np.square(y - new_y)\n",
    "    # loss2 = np.dot((y - new_y).T , (y - new_y))\n",
    "\n",
    "    err = np.sum(loss)/X.shape[0] * 2\n",
    "    # err2 = np.sum(loss2)/X.shape[0]\n",
    "    # print(err)\n",
    "    # print(err2)\n",
    "    # YOUR CODE HERE\n",
    "    return err\n",
    "\n",
    "print(ms_error(X_train, theta, y_train))"
   ]
  },
  {
   "cell_type": "markdown",
   "metadata": {
    "pycharm": {
     "name": "#%% md\n"
    }
   },
   "source": [
    "---\n",
    "\n",
    "**TASK 2.4:** Implement $grad(X, \\theta, Y) = g$, a function that returns the average gradient ($\\partial \\mathcal{L}/\\partial {\\theta}$) across all the training examples $x_i \\in \\mathbb{R}^{1 \\times n}$.\n",
    "\n",
    "---\n",
    "\n",
    "**HINT:** \n",
    "- The gradient should be an array with same length as $\\theta$.\n",
    "- https://www.sharpsightlabs.com/blog/numpy-sum/\n",
    "- https://docs.scipy.org/doc/numpy/reference/generated/numpy.multiply.html\n",
    "- https://docs.scipy.org/doc/numpy/reference/generated/numpy.tile.html"
   ]
  },
  {
   "cell_type": "code",
   "execution_count": 39,
   "metadata": {
    "pycharm": {
     "name": "#%%\n"
    }
   },
   "outputs": [
    {
     "name": "stdout",
     "output_type": "stream",
     "text": [
      "[ 2.22546184 -0.18740361  0.23017593]\n"
     ]
    }
   ],
   "source": [
    "def grad(X, theta, Y):\n",
    "    # YOUR CODE HERE\n",
    "    out = (2 * np.dot(np.dot(theta.T, X.T),X) - 2 * np.dot(Y.T, X))/X.shape[0]\n",
    "    return out\n",
    "\n",
    "print(grad(X_train, theta, y_train))"
   ]
  },
  {
   "cell_type": "markdown",
   "metadata": {
    "pycharm": {
     "name": "#%% md\n"
    }
   },
   "source": [
    "---\n",
    "\n",
    "**TASK 2.5:** Implement $batch\\_descent(X, Y, iterations, learning\\_rate) = \\theta, L$, a function which implements batch gradient descent returning $\\theta$ (parameters which estimate $Y$ from $X$), and $L$.\n",
    "\n",
    "$iterations$ is the number of gradient descent iterations to be performed.\n",
    "\n",
    "$learning\\_rate$ is, of course, the learning rate.\n",
    "\n",
    "$L$ is a matrix recording the mean squared error at every iteration of gradient descent. It will be an array of length $iterations$.\n",
    "\n",
    "You should use the functions you completed earlier to complete this. \n",
    "\n",
    "---\n",
    "\n",
    "**HINT:** \n",
    "- Remember, the point of gradient descent is to minimise the loss function. \n",
    "- It does this by taking \"steps\". The gradient always points in the steepest direction uphill, so by stepping in the opposite direction of the gradient we move toward the value of $\\theta$ that minimises the loss function."
   ]
  },
  {
   "cell_type": "code",
   "execution_count": 48,
   "metadata": {
    "pycharm": {
     "name": "#%%\n"
    }
   },
   "outputs": [
    {
     "name": "stdout",
     "output_type": "stream",
     "text": [
      "[ 0.62958793 -1.81342356  1.54744858]\n"
     ]
    },
    {
     "data": {
      "image/png": "[encoded data removed]",
      "text/plain": [
       "<Figure size 432x288 with 1 Axes>"
      ]
     },
     "metadata": {
      "needs_background": "light"
     },
     "output_type": "display_data"
    },
    {
     "name": "stdout",
     "output_type": "stream",
     "text": [
      "New Theta: \n",
      " [0.05112849 0.21120949 1.20954013]\n",
      "\n",
      "Final Mean Squared Error: \n",
      " 0.6654151682985795\n"
     ]
    },
    {
     "data": {
      "image/png": "[encoded data removed]",
      "text/plain": [
       "<Figure size 432x288 with 1 Axes>"
      ]
     },
     "metadata": {
      "needs_background": "light"
     },
     "output_type": "display_data"
    }
   ],
   "source": [
    "def batch_descent(X: object, Y: object, iterations: object, learning_rate: object) -> object:\n",
    "    # YOUR CODE HERE\n",
    "    theta = initialise_parameters(X.shape[1])\n",
    "    L = []\n",
    "    for i in range(iterations):\n",
    "        # print(theta)\n",
    "        predict_y = np.dot(X,theta)\n",
    "        error = ms_error(X,theta,Y)\n",
    "        L.append(error)\n",
    "        gradent = grad(X,theta,Y)\n",
    "        # print(gradent)\n",
    "        theta = theta - learning_rate * gradent\n",
    "\n",
    "\n",
    "    return theta, L\n",
    "\n",
    "    \n",
    "#REPORTING CODE. YOU MAY NEED TO MODIFY THE LEARNING RATE OR NUMBER OF ITERATIONS\n",
    "new_theta, L = batch_descent(X_train, y_train, 500, 0.5)\n",
    "plt.plot(L)\n",
    "plt.title('Mean Squared Error vs Iterations')\n",
    "plt.show()\n",
    "print('New Theta: \\n', new_theta)\n",
    "print('\\nFinal Mean Squared Error: \\n', ms_error(X_train, new_theta, y_train))\n",
    "\n",
    "def get_prediction(X,theta):\n",
    "    pred = X@theta\n",
    "    return pred\n",
    "\n",
    "x_fit = np.linspace(-0.7, 0.8, 1000)\n",
    "X_fit = get_polynomial_features(x_fit,degree=2)\n",
    "pred_y_train = get_prediction(X_fit,new_theta)\n",
    "\n",
    "# plot results\n",
    "plt.plot(x_train,y_train,'o',label='data point')\n",
    "plt.plot(x_fit,pred_y_train,label='fitting result')\n",
    "\n",
    "plt.legend()\n",
    "plt.xlabel('x')\n",
    "plt.ylabel('y')\n",
    "plt.title('show fitting result')\n",
    "plt.ylim([-1,3])\n",
    "plt.show()"
   ]
  }
 ],
 "metadata": {
  "kernelspec": {
   "display_name": "Python 3 (ipykernel)",
   "language": "python",
   "name": "python3"
  },
  "language_info": {
   "codemirror_mode": {
    "name": "ipython",
    "version": 3
   },
   "file_extension": ".py",
   "mimetype": "text/x-python",
   "name": "python",
   "nbconvert_exporter": "python",
   "pygments_lexer": "ipython3",
   "version": "3.7.13"
  }
 },
 "nbformat": 4,
 "nbformat_minor": 2
}
