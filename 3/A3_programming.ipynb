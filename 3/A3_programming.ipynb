{
 "cells": [
  {
   "cell_type": "markdown",
   "metadata": {},
   "source": [
    "# **GMM**\n",
    "---"
   ]
  },
  {
   "cell_type": "markdown",
   "metadata": {},
   "source": [
    "\n",
    "    \n",
    "**Enter Discussion Partner IDs Below:**\n",
    "- <Enter ID 1>\n",
    "- <Enter ID 2>\n",
    "- <Enter ID 3>\n",
    "    \n",
    "\n",
    "**Programming Section**\n",
    "- 1 = 20%\n",
    "- 2 = 20%\n",
    "- 3 = 20%\n",
    "- 4 = 10%\n",
    "- 5 = 10%\n",
    "- 6 = 20%"
   ]
  },
  {
   "cell_type": "markdown",
   "metadata": {},
   "source": [
    "---\n",
    "\n",
    "\n",
    "**PROGRAMMING SECTION**\n",
    "---\n",
    "\n",
    "\n",
    "For all of the following, program the solution yourself. Don't just call a library function that does the whole question for you, or you'll get zero (no, that doesn't mean you can't use any library functions, but it does mean that you have to show you understand how to compute the answer yourself).\n",
    "\n",
    "-----------"
   ]
  },
  {
   "cell_type": "code",
   "execution_count": null,
   "metadata": {
    "collapsed": false,
    "pycharm": {
     "name": "#%%\n"
    }
   },
   "outputs": [],
   "source": [
    "import numpy as np\n",
    "import matplotlib.pyplot as plt\n",
    "from mpl_toolkits.mplot3d import Axes3D  #This is for 3d scatter plots.\n",
    "import math\n",
    "import random\n",
    "import functools"
   ]
  },
  {
   "cell_type": "markdown",
   "metadata": {
    "collapsed": false,
    "pycharm": {
     "name": "#%% md\n"
    }
   },
   "source": [
    "We're going to implement an algorithm to model data with a mixture of gaussians. \n",
    "\n",
    "Remember the simplified EM algorithm in assignment 2 for k-means? Well, we're going to implement something similar.\n",
    "\n",
    "The more complex aspect of this all is that your program must also correctly estimate the covariance matrices of the 2-dimensional gaussian components involved, as well as their means.\n",
    "\n",
    "Not only this, but the \"distance\" of each of your data points (a row $d_i$ of $D$) from a gaussian $k$, is the probability of that point given that gaussian $p(d_i \\mid k)$. \n",
    "\n",
    "Run the below cell to load the data we'll be using."
   ]
  },
  {
   "cell_type": "code",
   "execution_count": null,
   "metadata": {
    "collapsed": false,
    "pycharm": {
     "name": "#%%\n"
    }
   },
   "outputs": [],
   "source": [
    "X = np.load(\"./data.npy\")\n",
    "fig = plt.figure(figsize=(16, 10))\n",
    "ax = fig.add_subplot(111, projection='3d')\n",
    "ax.scatter(X[:, 0], X[:, 1], X[:, 2])\n",
    "plt.show()"
   ]
  },
  {
   "cell_type": "markdown",
   "metadata": {
    "collapsed": false,
    "pycharm": {
     "name": "#%% md\n"
    }
   },
   "source": [
    "First off, some definitions:\n",
    "\n",
    "$X$ is a dataset contains 800 data. Each data has 3 dimensions. They are represented by a three dimensional Gaussian Mixture Model.\n",
    "\n",
    "$K$ is the total number of gaussians. This is just like the $K$ means you had for k-means in assignment 2. Each gaussian is named $k$, where $k$ is the unique number associated with that gaussian. Each $k$ has a mean and covariance matrix associated with it. This allows you to construct a gaussian which is just a formula which can be used to generate data points or to compute the probability that a given data point is generated from this gaussian (look up generative models if you're curious to learn more). For this purpose, you can use np.random.multivariate_normal().\n",
    "\n",
    "$\\Sigma$ is a list of covariance matrices $\\Sigma_k \\in \\mathbb{R}^{m \\times m}$, which are symmetric positive semidefinite matrices.\n",
    "\n",
    "$\\mu$ is a list of means, each one $\\mu_k \\in \\mathbb{R}^{m}$ associated with gaussian $k$.\n",
    "\n",
    "$N$ is the total number of datapoints.\n",
    "\n",
    "$responsibilities \\in [0, 1]^{N \\times K}$ is a matrix. Every column $k$ of $responsibilities$ is associated with the $k^{th}$ gaussian. Each element $r_{ik}$ of the $k^{th}$ column is the probability of the $i^{th}$ datapoint $x_i$ (the $i^{th}$ row of $X$) given the gaussian $k$.\n",
    "\n",
    "$N_k$ is the sum of the $k^{th}$ column of $responsibilities$. In other words, there is one $N_k$ for each gaussian. $N_k = \\sum_i r_{ik}$.\n",
    "\n",
    "$\\pi$ is a list of probabilies, 1 associated with each gaussian. $\\pi_k$ is the probability of gaussian $k$. $\\pi_k = \\frac{N_k}{N}$.\n",
    "\n",
    "---\n",
    "\n",
    "   **TASK 1:** Complete the below function to initialise your parameters. You will need to generate:\n",
    "   1. A list $\\mu$ of $K$ means, each of which is in $\\mathbb{R}^{m}$.\n",
    "   2. A list $\\Sigma$ of $K$ covariance matrices in $\\mathbb{R}^{m \\times m}$. Remember, covariance matrices must be symmetric positive semidefinite.\n",
    "   3. A list $\\pi$ of $K$ probabilities $\\pi_k$. They should be initialised at $\\frac{1}{K}$ (uniformly distributed at first).\n",
    "\n",
    "Do not hard code parameters. You should generate them with some randomness, and your code must work for any $m$, $k$ and $N$.\n",
    "\n",
    "You need to intelligently select $\\mu_k$ just like you did with k-means. Poorly initialised parameters may result in an entirely broken EM algorithm.\n",
    "\n",
    "---"
   ]
  },
  {
   "cell_type": "code",
   "execution_count": null,
   "metadata": {
    "collapsed": false,
    "pycharm": {
     "name": "#%%\n"
    }
   },
   "outputs": [],
   "source": [
    "def initialise_parameters(X, K):\n",
    "    # YOUR CODE HERE\n",
    "    mu = X[np.random.choice(X.shape[0], K)]\n",
    "    sigma = np.random.random((K, X.shape[1], X.shape[1]))\n",
    "\n",
    "    for i in range(sigma.shape[0]):\n",
    "        sigma[i] = np.dot(sigma[i].T, sigma[i])\n",
    "    pi = np.ones(K) / K\n",
    "    return mu, sigma, pi\n",
    "\n",
    "\n",
    "K = 4\n",
    "mu, sigma, pi = initialise_parameters(X[:, :3], K)\n",
    "print('\\nSigma: \\n', sigma)\n",
    "print('\\nMu: \\n', mu)\n",
    "print('\\nPi: \\n', pi)"
   ]
  },
  {
   "cell_type": "markdown",
   "metadata": {
    "collapsed": false,
    "pycharm": {
     "name": "#%% md\n"
    }
   },
   "source": [
    "$E\\_step$ computes the matrix $responsibilities \\in [0, 1]^{N \\times K}$, where $N$ is the number of data points, and $K$ is the number of gaussians you're attempting to cluster the data with. Each gaussian will be associated with a column of $responsibilities$. As your algorithm runs, each row represents a data point $x_i$, and each column of that row will contain the probability that $x_i$ came from that gaussian, $p(x_i \\mid k)$, signifying the extent to which this datapoint $x_i$ has been assigned to the gaussian associated with that column. \n",
    "\n",
    "---\n",
    "\n",
    "**TASK 2:** Implement $E\\_step(\\pi, \\mu, \\Sigma, X) = responsibilities$, which updates the $responsibilities$ matrix.\n",
    "\n",
    "Remember, which gaussian a datapoint is assigned to depends on the probability of that datapoint given that gaussian.\n",
    "\n",
    "**HINT:** \n",
    "- Each element of responsibilities $r_{ik} = \\frac{\\pi_k \\mathcal{N}(x_i \\mid \\mu_k \\Sigma_k)}{\\sum_j \\pi_j \\mathcal{N}(x_i \\mid \\mu_j \\Sigma_j)}$, where $x_i$ is the $i^{th}$ row of $X$.\n",
    "- https://docs.scipy.org/doc/scipy-0.14.0/reference/generated/scipy.stats.multivariate_normal.html\n",
    "- Use $multivariate\\_normal.pdf(x, \\mu_k, \\Sigma_k)$\n",
    "\n",
    "---"
   ]
  },
  {
   "cell_type": "code",
   "execution_count": null,
   "metadata": {
    "collapsed": false,
    "pycharm": {
     "name": "#%%\n"
    }
   },
   "outputs": [],
   "source": [
    "from scipy.stats import multivariate_normal\n",
    "\n",
    "\n",
    "def E_step(pi, mu, sigma, X):\n",
    "    pdfs = np.zeros((X.shape[0], mu.shape[0]))\n",
    "    for i in range(mu.shape[0]):\n",
    "        pdfs[:, i] = pi[i] * multivariate_normal.pdf(X, mu[i], np.diag(sigma[i]))\n",
    "    r = pdfs / pdfs.sum(axis=1).reshape(-1, 1)\n",
    "    return r\n",
    "\n",
    "\n",
    "responsibilities = E_step(pi, mu, sigma, X[:, :3])\n",
    "print(responsibilities)"
   ]
  },
  {
   "cell_type": "markdown",
   "metadata": {
    "collapsed": false,
    "pycharm": {
     "name": "#%% md\n"
    }
   },
   "source": [
    "---\n",
    "\n",
    "**TASK 3:** Implement $M\\_step(responsibilities, X) = \\mu, \\Sigma, \\pi$ which returns the updated means and covariances for all of the $k$ gaussians, along with the priors $\\pi$.\n",
    "\n",
    "**HINT:** \n",
    "- https://docs.scipy.org/doc/numpy/reference/generated/numpy.outer.html\n",
    "\n",
    "---"
   ]
  },
  {
   "cell_type": "code",
   "execution_count": null,
   "metadata": {
    "collapsed": false,
    "pycharm": {
     "name": "#%%\n"
    }
   },
   "outputs": [],
   "source": [
    "def update_mu(r, X):\n",
    "    new_mu = np.zeros((r.shape[1], X.shape[1]))\n",
    "    for i in range(r.shape[1]):\n",
    "        new_mu[i] = np.average(X, axis=0, weights=r[:, i])\n",
    "    return new_mu\n",
    "\n",
    "def update_sigma(r, mu, X):\n",
    "    new_sigma = np.zeros([r.shape[1], X.shape[1], X.shape[1]])\n",
    "    for i in range(r.shape[1]):\n",
    "        for j in range(X.shape[0]):\n",
    "            dif = (X[j] - mu[i]).reshape(-1, 1)\n",
    "            new_sigma[i] += np.dot(dif, dif.T) * r[j, i]\n",
    "        new_sigma[i] = new_sigma[i] / np.sum(r, axis=0)[i]\n",
    "    return new_sigma\n",
    "\n",
    "def update_pi(r):\n",
    "    pi = r.sum(axis=0) / r.sum()\n",
    "    return pi\n",
    "\n",
    "\n",
    "def M_step(r, X):\n",
    "    mu = update_mu(r, X)\n",
    "    sigma = update_sigma(r, mu, X)\n",
    "    pi = update_pi(r)\n",
    "    return mu, sigma, pi\n",
    "\n",
    "\n",
    "mu, sigma, pi = M_step(responsibilities, X[:, :3])\n",
    "print('\\nSigma: \\n', sigma)\n",
    "print('\\nMu: \\n', mu)\n",
    "print('\\nPi: \\n', pi)"
   ]
  },
  {
   "cell_type": "markdown",
   "metadata": {
    "collapsed": false,
    "pycharm": {
     "name": "#%% md\n"
    }
   },
   "source": [
    "---\n",
    "\n",
    "**TASK 4:** Implement $classify(\\pi, \\mu, \\Sigma, x) = k$ which takes an unknown example $x \\in \\mathbb{R}^{m}$, the means $\\mu$ and covariance matrices $\\Sigma$ and the priors $\\pi$, and returns $k$, the number of the gaussian which maximises the probability of $x$.\n",
    "\n",
    "In other words, ${arg max}_k \\left(p(x \\mid \\mu_k, \\Sigma_k)\\pi_k \\right)$.\n",
    "\n",
    "---"
   ]
  },
  {
   "cell_type": "code",
   "execution_count": null,
   "metadata": {
    "collapsed": false,
    "pycharm": {
     "name": "#%%\n"
    }
   },
   "outputs": [],
   "source": [
    "def classify(pi, mu, sigma, x):\n",
    "    # YOUR CODE HERE\n",
    "    dic = dict()\n",
    "    for i in range(pi.shape[0]):\n",
    "        dic[i] = pi[i] * multivariate_normal.pdf(x, mu[i], np.diag(sigma[i]))\n",
    "    return max(dic, key=dic.get)\n",
    "\n",
    "\n",
    "print(classify(pi, mu, sigma, X[270, :3]))"
   ]
  },
  {
   "cell_type": "markdown",
   "metadata": {
    "collapsed": false,
    "pycharm": {
     "name": "#%% md\n"
    }
   },
   "source": [
    "---\n",
    "\n",
    "**TASK 5:** Implement $EM(X, K, iterations) = \\mu, \\Sigma, \\pi$ which: \n",
    "1. takes a dataset $X \\in \\mathbb{R}^{N \\times m}$ and $K$, an integer indicating how many gaussians will be used to cluster the data, and $iterations$ the number of iterations to be performed.\n",
    "2. uses all of the functions you completed above to initialise parameters and find the optimal means $\\mu$, covariances $\\Sigma$ and priors $\\pi$ to cluster the data points (a gaussian mixture model).\n",
    "\n",
    "---"
   ]
  },
  {
   "cell_type": "code",
   "execution_count": null,
   "metadata": {
    "collapsed": false,
    "pycharm": {
     "name": "#%%\n"
    }
   },
   "outputs": [],
   "source": [
    "\n",
    "def EM(X, K, iterations):\n",
    "    # YOUR CODE HERE\n",
    "    mu, sigma, pi = initialise_parameters(X[:, :3], K)\n",
    "    i = 0\n",
    "    while i < iterations:\n",
    "        r = E_step(pi, mu, sigma, X[:, :3])\n",
    "        mu, sigma, pi = M_step(r, X[:, :3])\n",
    "        i += 1\n",
    "    return mu, sigma, pi\n",
    "\n",
    "\n",
    "#Test code. Leave it aloooooone!\n",
    "iterations = 30\n",
    "K = 3\n",
    "mu_1, sigma_1, pi_1 = EM(X[:, :3], K, iterations)\n",
    "print('\\nSigma: \\n', sigma_1)\n",
    "print('\\nMu: \\n', mu_1)\n",
    "print('\\nPi: \\n', pi_1)\n",
    "\n",
    "\n",
    "def allocator(pi, mu, sigma, X, k):\n",
    "    N = X.shape[0]\n",
    "    cluster = []\n",
    "    for ix in range(N):\n",
    "        prospective_k = classify(pi, mu, sigma, X[ix, :])\n",
    "        if prospective_k == k:\n",
    "            cluster.append(X[ix, :])\n",
    "    # print(np.asarray(cluster))\n",
    "    return np.asarray(cluster)\n",
    "\n",
    "\n",
    "colours = ['r', 'g', 'b']\n",
    "fig = plt.figure(figsize=(16, 10))\n",
    "ax = fig.add_subplot(111, projection='3d')\n",
    "for k in range(K):\n",
    "    cluster = allocator(pi_1, mu_1, sigma_1, X[:, :3], k)\n",
    "    ax.scatter(cluster[:, 0], cluster[:, 1], cluster[:, 2], c=colours[k])\n",
    "plt.show()"
   ]
  },
  {
   "cell_type": "markdown",
   "metadata": {
    "collapsed": false,
    "pycharm": {
     "name": "#%% md\n"
    }
   },
   "source": [
    "---\n",
    "**Task 6**: Image segmentation is the process of assigning a label to every pixel in an image such that pixels with the same label share certain characteristics. In this task, we are going to implement a simple image segmentation algorithm using GMM. \n",
    "\n",
    "The *image_segmentation* function should satisfy the following specifications:\n",
    "* Inputs:\n",
    "    - image: the image to be segmented. Type: np.ndarray\n",
    "    - K: the number of gaussians.\n",
    "    - iterations: the number of iterations of EM algorithm.\n",
    "* Return:\n",
    "    - a matrix, each element of this matrix corresponds to the class of pixels of the input image matrix. Type: np.ndarray. dtype: np.int32.\n",
    "    - For an image with shape (78,78,3), the shape of returned matrix should be (78,78).\n",
    "\n",
    "Make sure your code can run within 3 mins.\n",
    "\n",
    "**Read more:** https://en.wikipedia.org/wiki/Image_segmentation\n",
    "\n",
    "**Hints:** Remember to use the functions you defined above.\n",
    "\n",
    "---"
   ]
  },
  {
   "cell_type": "markdown",
   "metadata": {
    "collapsed": false,
    "pycharm": {
     "name": "#%% md\n"
    }
   },
   "source": [
    "Let's load the image to be segmented first."
   ]
  },
  {
   "cell_type": "code",
   "execution_count": null,
   "metadata": {
    "collapsed": false,
    "pycharm": {
     "name": "#%%\n"
    }
   },
   "outputs": [],
   "source": [
    "image = plt.imread('mandm.png')\n",
    "plt.imshow(image)\n",
    "plt.show()"
   ]
  },
  {
   "cell_type": "code",
   "execution_count": null,
   "metadata": {
    "collapsed": false,
    "pycharm": {
     "name": "#%%\n"
    }
   },
   "outputs": [],
   "source": [
    "\n",
    "def image_segmentation(image, K, iterations):\n",
    "    image2 = image.reshape(((image.shape[0] * image.shape[1]), image.shape[2]))\n",
    "    mu, sigma, pi = EM(image2[:, :3], K, iterations)\n",
    "    output = np.zeros((image.shape[0] , image.shape[1]),dtype=np.int32)\n",
    "    for i in range(image.shape[0]):\n",
    "        for j in range(image.shape[1]):\n",
    "            output[i,j] = classify(pi,mu,sigma,image[i,j])\n",
    "    return output\n",
    "\n",
    "\n",
    "# test code, leave it alone!\n",
    "import time\n",
    "\n",
    "start = time.time()\n",
    "gmm_labels = image_segmentation(image, 5, 10)\n",
    "end = time.time()\n",
    "print(f'It takes {end - start} seconds to segement the image.')\n",
    "colors = [[255, 0, 0], [0, 255, 0], [0, 0, 255], [255, 255, 255], [0, 0, 0],   [255, 255, 0],[255, 0, 255],[0, 255, 255],]\n",
    "segemented_image = np.zeros_like(image, dtype=np.int32)\n",
    "m, n, _ = segemented_image.shape\n",
    "for i in range(m):\n",
    "    for j in range(n):\n",
    "        segemented_image[i, j] = np.array(colors[gmm_labels[i, j]])\n",
    "plt.imshow(segemented_image)\n",
    "plt.show()\n",
    "image = plt.imread('mandm.png')\n",
    "plt.imshow(image)\n",
    "plt.show()"
   ]
  },
  {
   "cell_type": "markdown",
   "metadata": {
    "collapsed": false,
    "pycharm": {
     "name": "#%% md\n"
    }
   },
   "source": [
    "Your answer should look like this, maybe with different colors:\n",
    "![image](./segmented_image.png)"
   ]
  }
 ],
 "metadata": {
  "kernelspec": {
   "display_name": "Python 3",
   "language": "python",
   "name": "python3"
  },
  "language_info": {
   "codemirror_mode": {
    "name": "ipython",
    "version": 3
   },
   "file_extension": ".py",
   "mimetype": "text/x-python",
   "name": "python",
   "nbconvert_exporter": "python",
   "pygments_lexer": "ipython3",
   "version": "3.8.5"
  }
 },
 "nbformat": 4,
 "nbformat_minor": 2
}
